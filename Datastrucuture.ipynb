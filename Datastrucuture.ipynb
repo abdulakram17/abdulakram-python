{
 "cells": [
  {
   "cell_type": "markdown",
   "id": "68832e78-1342-4159-9999-f1d95048f9bb",
   "metadata": {},
   "source": [
    "#A set is unordered collection of data type that is iterable,mutable and has no duplicate elements.Set has no indexing to access or retrive"
   ]
  },
  {
   "cell_type": "code",
   "execution_count": 260,
   "id": "dfbc6238-b60a-4119-9964-c3e0bdc4f88f",
   "metadata": {},
   "outputs": [
    {
     "name": "stdout",
     "output_type": "stream",
     "text": [
      "Bismillah Ar Rahman Nir Raheem\n"
     ]
    }
   ],
   "source": [
    "print('Bismillah Ar Rahman Nir Raheem')"
   ]
  },
  {
   "cell_type": "code",
   "execution_count": 261,
   "id": "2aba8ec3-49fa-4fa5-b736-140a19e869d8",
   "metadata": {},
   "outputs": [
    {
     "name": "stdout",
     "output_type": "stream",
     "text": [
      "Bismillah Ar Rahman Nir Raheem\n"
     ]
    }
   ],
   "source": [
    "print('Bismillah Ar Rahman Nir Raheem')"
   ]
  },
  {
   "cell_type": "code",
   "execution_count": 262,
   "id": "34898f33-6b8a-4281-b27e-53526594f257",
   "metadata": {},
   "outputs": [],
   "source": [
    "abd=set({'a','b'})"
   ]
  },
  {
   "cell_type": "code",
   "execution_count": 263,
   "id": "b320e46a-f11b-4eae-9c33-0551cf293c56",
   "metadata": {},
   "outputs": [
    {
     "data": {
      "text/plain": [
       "set"
      ]
     },
     "execution_count": 263,
     "metadata": {},
     "output_type": "execute_result"
    }
   ],
   "source": [
    "type(abd)"
   ]
  },
  {
   "cell_type": "code",
   "execution_count": 264,
   "id": "00adf656-acf2-4cda-9fda-cf0d034ba18c",
   "metadata": {},
   "outputs": [
    {
     "name": "stdout",
     "output_type": "stream",
     "text": [
      "{'b', 'a'}\n"
     ]
    }
   ],
   "source": [
    "print(abd)"
   ]
  },
  {
   "cell_type": "code",
   "execution_count": 265,
   "id": "6caa08ea-4f62-4d7e-9b51-f35dc0b5cfa2",
   "metadata": {},
   "outputs": [
    {
     "data": {
      "text/plain": [
       "2"
      ]
     },
     "execution_count": 265,
     "metadata": {},
     "output_type": "execute_result"
    }
   ],
   "source": [
    "len(abd)"
   ]
  },
  {
   "cell_type": "code",
   "execution_count": 266,
   "id": "17da0146-dc18-44f5-8f7e-9119b57cf808",
   "metadata": {},
   "outputs": [],
   "source": [
    "abd.add('Akram')"
   ]
  },
  {
   "cell_type": "code",
   "execution_count": 267,
   "id": "dd1889f4-ea41-4f43-876c-3fea0b4711a2",
   "metadata": {},
   "outputs": [
    {
     "name": "stdout",
     "output_type": "stream",
     "text": [
      "{'b', 'a', 'Akram'}\n"
     ]
    }
   ],
   "source": [
    "print(abd)"
   ]
  },
  {
   "cell_type": "code",
   "execution_count": 268,
   "id": "bb82c5b9-3f22-4fa3-ae47-c56629831313",
   "metadata": {},
   "outputs": [],
   "source": [
    "set1={'faizan','ashu','uzair','ilyas'}\n",
    "set2={'faizan','ashu','ghouse','moiz'}"
   ]
  },
  {
   "cell_type": "code",
   "execution_count": 269,
   "id": "4856930e-c41f-4957-a9cb-936d00566d94",
   "metadata": {},
   "outputs": [
    {
     "data": {
      "text/plain": [
       "{'ghouse', 'moiz'}"
      ]
     },
     "execution_count": 269,
     "metadata": {},
     "output_type": "execute_result"
    }
   ],
   "source": [
    "set2.difference(set1)"
   ]
  },
  {
   "cell_type": "code",
   "execution_count": 270,
   "id": "2932dac4-54bb-454d-9360-af39e08e3df7",
   "metadata": {},
   "outputs": [],
   "source": [
    "set1.intersection_update(set2)"
   ]
  },
  {
   "cell_type": "code",
   "execution_count": 271,
   "id": "85f3416e-af56-4d89-9870-62f1ecf7ee30",
   "metadata": {},
   "outputs": [
    {
     "data": {
      "text/plain": [
       "{'ashu', 'faizan'}"
      ]
     },
     "execution_count": 271,
     "metadata": {},
     "output_type": "execute_result"
    }
   ],
   "source": [
    "set1"
   ]
  },
  {
   "cell_type": "code",
   "execution_count": 272,
   "id": "fdb015f8-1321-4adf-a79d-eb2ce6db9095",
   "metadata": {},
   "outputs": [
    {
     "data": {
      "text/plain": [
       "{'ashu', 'faizan'}"
      ]
     },
     "execution_count": 272,
     "metadata": {},
     "output_type": "execute_result"
    }
   ],
   "source": [
    "set1"
   ]
  },
  {
   "cell_type": "markdown",
   "id": "5e525cc8-7870-43dc-98c4-b189f429d145",
   "metadata": {},
   "source": [
    "A Dictionary is unordered,changeable,indexed collection of data type. and dict is created by using curly braces\n"
   ]
  },
  {
   "cell_type": "code",
   "execution_count": 273,
   "id": "7fa63e53-77da-462b-b56a-0d1d711ea640",
   "metadata": {},
   "outputs": [
    {
     "data": {
      "text/plain": [
       "dict"
      ]
     },
     "execution_count": 273,
     "metadata": {},
     "output_type": "execute_result"
    }
   ],
   "source": [
    "Dict={}\n",
    "type(Dict)"
   ]
  },
  {
   "cell_type": "code",
   "execution_count": 274,
   "id": "e674c629-7227-41f8-9971-f30822c4ecb9",
   "metadata": {},
   "outputs": [],
   "source": [
    "dictt={1,2,3,4,5}"
   ]
  },
  {
   "cell_type": "code",
   "execution_count": 275,
   "id": "1b865d86-6981-4d7d-a417-5e5be7fa8362",
   "metadata": {},
   "outputs": [
    {
     "name": "stdout",
     "output_type": "stream",
     "text": [
      "{'car1': 'bmw', 'car2': 'innova', 'car3': 'swift'}\n"
     ]
    }
   ],
   "source": [
    "cars={'car1':'bmw','car2':'innova','car3':'swift'}\n",
    "print(cars)"
   ]
  },
  {
   "cell_type": "code",
   "execution_count": 276,
   "id": "c10f2a6f-90ab-4394-abe7-6ece32056134",
   "metadata": {},
   "outputs": [
    {
     "data": {
      "text/plain": [
       "'bmw'"
      ]
     },
     "execution_count": 276,
     "metadata": {},
     "output_type": "execute_result"
    }
   ],
   "source": [
    "cars['car1']"
   ]
  },
  {
   "cell_type": "code",
   "execution_count": 277,
   "id": "9bbca3a8-a4be-4d7e-9494-34b705156f58",
   "metadata": {},
   "outputs": [
    {
     "name": "stdout",
     "output_type": "stream",
     "text": [
      "car1\n",
      "car2\n",
      "car3\n"
     ]
    }
   ],
   "source": [
    "for keys in cars.keys():\n",
    "    print(keys)"
   ]
  },
  {
   "cell_type": "code",
   "execution_count": 278,
   "id": "63985c69-491f-401f-bcfb-0da9494b7b14",
   "metadata": {},
   "outputs": [
    {
     "name": "stdout",
     "output_type": "stream",
     "text": [
      "bmw\n",
      "innova\n",
      "swift\n"
     ]
    }
   ],
   "source": [
    "for x in cars.values():\n",
    "    print(x)"
   ]
  },
  {
   "cell_type": "code",
   "execution_count": 279,
   "id": "b5bf630c-18b2-4116-9aa3-d76828511a98",
   "metadata": {},
   "outputs": [
    {
     "name": "stdout",
     "output_type": "stream",
     "text": [
      "('car1', 'bmw')\n",
      "('car2', 'innova')\n",
      "('car3', 'swift')\n"
     ]
    }
   ],
   "source": [
    "for x in cars.items():\n",
    "    print(x)"
   ]
  },
  {
   "cell_type": "code",
   "execution_count": 280,
   "id": "c954c88b-eff4-488d-9a6c-8e69f1b9431e",
   "metadata": {},
   "outputs": [
    {
     "data": {
      "text/plain": [
       "dict_keys(['car1', 'car2', 'car3'])"
      ]
     },
     "execution_count": 280,
     "metadata": {},
     "output_type": "execute_result"
    }
   ],
   "source": [
    "cars.keys()"
   ]
  },
  {
   "cell_type": "code",
   "execution_count": 281,
   "id": "01e10144-fa0b-44ad-8290-3d969ee09ce2",
   "metadata": {},
   "outputs": [],
   "source": [
    "Dict={'akram':67,'kareem':64,'uzair':56}"
   ]
  },
  {
   "cell_type": "code",
   "execution_count": 282,
   "id": "27875640-3fa7-4a64-962b-a8af21effa3e",
   "metadata": {},
   "outputs": [
    {
     "name": "stdout",
     "output_type": "stream",
     "text": [
      "{'akram': 67, 'kareem': 64, 'uzair': 56}\n"
     ]
    }
   ],
   "source": [
    "print(Dict)"
   ]
  },
  {
   "cell_type": "code",
   "execution_count": 283,
   "id": "85780a09-a0a3-422b-ae4a-0d6d26662ad9",
   "metadata": {},
   "outputs": [
    {
     "data": {
      "text/plain": [
       "dict"
      ]
     },
     "execution_count": 283,
     "metadata": {},
     "output_type": "execute_result"
    }
   ],
   "source": [
    "type(Dict)"
   ]
  },
  {
   "cell_type": "code",
   "execution_count": 284,
   "id": "b011525e-3d35-4fa2-8f68-d9bb1473a862",
   "metadata": {},
   "outputs": [
    {
     "data": {
      "text/plain": [
       "dict_values([67, 64, 56])"
      ]
     },
     "execution_count": 284,
     "metadata": {},
     "output_type": "execute_result"
    }
   ],
   "source": [
    "Dict.values()"
   ]
  },
  {
   "cell_type": "code",
   "execution_count": 285,
   "id": "0f786515-aafb-4d9b-bc2c-48ad7391caee",
   "metadata": {},
   "outputs": [
    {
     "data": {
      "text/plain": [
       "dict_keys(['akram', 'kareem', 'uzair'])"
      ]
     },
     "execution_count": 285,
     "metadata": {},
     "output_type": "execute_result"
    }
   ],
   "source": [
    "Dict.keys()"
   ]
  },
  {
   "cell_type": "code",
   "execution_count": 286,
   "id": "7ff3387b-2c69-49c8-835f-0435f18979d7",
   "metadata": {},
   "outputs": [
    {
     "data": {
      "text/plain": [
       "3"
      ]
     },
     "execution_count": 286,
     "metadata": {},
     "output_type": "execute_result"
    }
   ],
   "source": [
    "len(Dict)"
   ]
  },
  {
   "cell_type": "code",
   "execution_count": 287,
   "id": "1c6e0dbd-3bcb-4796-8b68-561034e074ec",
   "metadata": {},
   "outputs": [
    {
     "name": "stdout",
     "output_type": "stream",
     "text": [
      "{'car1': 'bmw', 'car2': 'innova', 'car3': 'swift'}\n"
     ]
    }
   ],
   "source": [
    "print(cars)"
   ]
  },
  {
   "cell_type": "code",
   "execution_count": 288,
   "id": "51a1fe15-6b9a-4c47-91f0-aba2c0815f3e",
   "metadata": {},
   "outputs": [],
   "source": [
    "#Adding items into a Dictionary\n",
    "cars['car4']='maruti'"
   ]
  },
  {
   "cell_type": "code",
   "execution_count": 289,
   "id": "e4eddc3a-94d7-4380-b856-817b43288a0a",
   "metadata": {},
   "outputs": [
    {
     "name": "stdout",
     "output_type": "stream",
     "text": [
      "{'car1': 'bmw', 'car2': 'innova', 'car3': 'swift', 'car4': 'maruti'}\n"
     ]
    }
   ],
   "source": [
    "print(cars)"
   ]
  },
  {
   "cell_type": "code",
   "execution_count": 290,
   "id": "15f6cba6-fe98-41a9-ab0f-4f334987e2fa",
   "metadata": {},
   "outputs": [],
   "source": [
    "car1_model={'bmw':1996}\n",
    "car2_model={'innova':1997}\n",
    "car3_model={'maruti':1998}\n"
   ]
  },
  {
   "cell_type": "code",
   "execution_count": 291,
   "id": "69ec61b5-b01e-45d9-a2d3-db0d345e2fa4",
   "metadata": {},
   "outputs": [],
   "source": [
    "cartype={'car1':car1_model,'car2':car2_model,'car3':car3_model}"
   ]
  },
  {
   "cell_type": "code",
   "execution_count": 292,
   "id": "ae7a2373-084a-4ec4-ab68-754b936e772f",
   "metadata": {},
   "outputs": [
    {
     "name": "stdout",
     "output_type": "stream",
     "text": [
      "{'car1': {'bmw': 1996}, 'car2': {'innova': 1997}, 'car3': {'maruti': 1998}}\n"
     ]
    }
   ],
   "source": [
    "print(cartype)"
   ]
  },
  {
   "cell_type": "code",
   "execution_count": 293,
   "id": "b561e931-d55f-4917-bfba-012c21a299be",
   "metadata": {},
   "outputs": [
    {
     "name": "stdout",
     "output_type": "stream",
     "text": [
      "{'bmw': 1996}\n"
     ]
    }
   ],
   "source": [
    "print(cartype['car1'])"
   ]
  },
  {
   "cell_type": "code",
   "execution_count": 294,
   "id": "9e2289f1-59ee-4094-a36a-48d114c7db7d",
   "metadata": {},
   "outputs": [
    {
     "name": "stdout",
     "output_type": "stream",
     "text": [
      "1998\n"
     ]
    }
   ],
   "source": [
    "print(cartype['car3']['maruti'])"
   ]
  },
  {
   "cell_type": "markdown",
   "id": "36cb2e84-d597-472f-a7a2-ecfb16922980",
   "metadata": {},
   "source": [
    "An Example for an nested Dictionary creted by AbdulAkram\n"
   ]
  },
  {
   "cell_type": "code",
   "execution_count": 295,
   "id": "f22965d7-ffe9-46ec-afbc-c23a3c21bd1a",
   "metadata": {},
   "outputs": [],
   "source": [
    "csemarks={\n",
    "    'Abdul':{\n",
    "        'sub1':55,'subj2':67,'subj3':57\n",
    "    },\n",
    "    'Akram': {\n",
    "        'subj1':98,'sub2':45,'subj3':76\n",
    "    }\n",
    ",'pathan':{\n",
    "    'sub1':78,'subj2':70,'sub3':98\n",
    "}\n",
    "}\n"
   ]
  },
  {
   "cell_type": "code",
   "execution_count": 296,
   "id": "bdaa2a51-e612-4dcd-82d2-15d80047d19b",
   "metadata": {},
   "outputs": [
    {
     "name": "stdout",
     "output_type": "stream",
     "text": [
      "{'Abdul': {'sub1': 55, 'subj2': 67, 'subj3': 57}, 'Akram': {'subj1': 98, 'sub2': 45, 'subj3': 76}, 'pathan': {'sub1': 78, 'subj2': 70, 'sub3': 98}}\n"
     ]
    }
   ],
   "source": [
    "print(csemarks)"
   ]
  },
  {
   "cell_type": "code",
   "execution_count": 297,
   "id": "55d01861-775b-437f-85fe-dc63b4682e0b",
   "metadata": {},
   "outputs": [
    {
     "data": {
      "text/plain": [
       "'3.12.7 | packaged by Anaconda, Inc. | (main, Oct  4 2024, 13:17:27) [MSC v.1929 64 bit (AMD64)]'"
      ]
     },
     "execution_count": 297,
     "metadata": {},
     "output_type": "execute_result"
    }
   ],
   "source": [
    "import sys\n",
    "sys.version"
   ]
  },
  {
   "cell_type": "markdown",
   "id": "75fdebc1-2926-4ef6-936c-befcd0d7257d",
   "metadata": {},
   "source": [
    "#Tuple::Tuple is an ordered collection of data type. Tuple is mutable it cant be changed or modify.\n",
    "Tuple can replace but the items of tuple cant be replaced."
   ]
  },
  {
   "cell_type": "code",
   "execution_count": 300,
   "id": "91c1f1ea-0614-41f2-b627-37340ec9f75b",
   "metadata": {},
   "outputs": [
    {
     "data": {
      "text/plain": [
       "tuple"
      ]
     },
     "execution_count": 300,
     "metadata": {},
     "output_type": "execute_result"
    }
   ],
   "source": [
    "my_names=('Yaseen','Mohammed','Abdul','Akram')\n",
    "type(my_names)"
   ]
  },
  {
   "cell_type": "code",
   "execution_count": 303,
   "id": "c24342f6-ad27-4b84-883a-d1b7136f2bb0",
   "metadata": {},
   "outputs": [
    {
     "data": {
      "text/plain": [
       "('Mohammed', 'Akram')"
      ]
     },
     "execution_count": 303,
     "metadata": {},
     "output_type": "execute_result"
    }
   ],
   "source": [
    "my_names[1],my_names[3]"
   ]
  },
  {
   "cell_type": "code",
   "execution_count": 306,
   "id": "6c55d376-3c92-4ef3-b69e-703ff17aa7dc",
   "metadata": {},
   "outputs": [
    {
     "data": {
      "text/plain": [
       "('Mohammed', 'Yaseen')"
      ]
     },
     "execution_count": 306,
     "metadata": {},
     "output_type": "execute_result"
    }
   ],
   "source": [
    "my_names=('Mohammed','Yaseen')\n",
    "my_names"
   ]
  },
  {
   "cell_type": "code",
   "execution_count": null,
   "id": "a7190b6d-07e0-4738-a99d-64fdb4af5fcc",
   "metadata": {},
   "outputs": [],
   "source": []
  }
 ],
 "metadata": {
  "kernelspec": {
   "display_name": "Python 3 (ipykernel)",
   "language": "python",
   "name": "python3"
  },
  "language_info": {
   "codemirror_mode": {
    "name": "ipython",
    "version": 3
   },
   "file_extension": ".py",
   "mimetype": "text/x-python",
   "name": "python",
   "nbconvert_exporter": "python",
   "pygments_lexer": "ipython3",
   "version": "3.12.7"
  }
 },
 "nbformat": 4,
 "nbformat_minor": 5
}
