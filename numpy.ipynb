{
 "cells": [
  {
   "cell_type": "markdown",
   "id": "307040b1-254d-4529-8058-ebd104934382",
   "metadata": {},
   "source": [
    "Numpy is general purpose array-processing package.Its provides a high performaance multidimensional array object and tools for working with these arrays."
   ]
  },
  {
   "cell_type": "markdown",
   "id": "4cf2e097-8563-47b0-a7ca-4da2337b5f09",
   "metadata": {},
   "source": [
    "Array is a datastructure which stores the value of same data-type and in python list can store different data type in a list.\n",
    "Array can only contain same data-type of values."
   ]
  },
  {
   "cell_type": "code",
   "execution_count": 76,
   "id": "64ecc45a-4b3f-48f1-957f-657d77e108ff",
   "metadata": {},
   "outputs": [
    {
     "data": {
      "text/plain": [
       "list"
      ]
     },
     "execution_count": 76,
     "metadata": {},
     "output_type": "execute_result"
    }
   ],
   "source": [
    "import numpy as np\n",
    "my_lst1=[1,2,3,4,5]\n",
    "type(my_lst1)"
   ]
  },
  {
   "cell_type": "code",
   "execution_count": 77,
   "id": "710ef6c0-8f40-4408-96ff-6898c427e48c",
   "metadata": {},
   "outputs": [
    {
     "data": {
      "text/plain": [
       "array([1, 2, 3, 4, 5])"
      ]
     },
     "execution_count": 77,
     "metadata": {},
     "output_type": "execute_result"
    }
   ],
   "source": [
    "arr=np.array(my_lst1)\n",
    "arr"
   ]
  },
  {
   "cell_type": "code",
   "execution_count": 78,
   "id": "b166fdd0-bbff-4757-bb73-b8c3fc9ff2bb",
   "metadata": {},
   "outputs": [
    {
     "data": {
      "text/plain": [
       "(5,)"
      ]
     },
     "execution_count": 78,
     "metadata": {},
     "output_type": "execute_result"
    }
   ],
   "source": [
    "arr.shape"
   ]
  },
  {
   "cell_type": "code",
   "execution_count": 79,
   "id": "836d1481-e4d2-4a4a-aeca-135ddc3959e6",
   "metadata": {},
   "outputs": [
    {
     "name": "stdout",
     "output_type": "stream",
     "text": [
      "[1 2 3 4 5]\n"
     ]
    }
   ],
   "source": [
    "print(arr)"
   ]
  },
  {
   "cell_type": "code",
   "execution_count": 80,
   "id": "a857a000-7dd0-4fdf-b9f7-70aa6c53a545",
   "metadata": {},
   "outputs": [],
   "source": [
    "my_lst2=[6,7,8,9,10]\n",
    "my_lst3=[11,12,13,14,15]"
   ]
  },
  {
   "cell_type": "code",
   "execution_count": 81,
   "id": "42a73243-b50a-4727-b5f6-975cf5ffa285",
   "metadata": {},
   "outputs": [],
   "source": [
    "#Creating a multi dimensional array by using multiple combining lists\n",
    "array = np.array([my_lst1,my_lst2,my_lst3]) "
   ]
  },
  {
   "cell_type": "code",
   "execution_count": 82,
   "id": "d0713c01-e4c5-4fd3-88d2-9bb17df6a918",
   "metadata": {},
   "outputs": [
    {
     "data": {
      "text/plain": [
       "(3, 5)"
      ]
     },
     "execution_count": 82,
     "metadata": {},
     "output_type": "execute_result"
    }
   ],
   "source": [
    "#check the shape of an araray\n",
    "array.shape"
   ]
  },
  {
   "cell_type": "code",
   "execution_count": 83,
   "id": "0cbe9720-7b98-4927-9356-f4bf7152d864",
   "metadata": {},
   "outputs": [
    {
     "data": {
      "text/plain": [
       "array([[ 1,  2,  3,  4,  5,  6,  7,  8,  9, 10, 11, 12, 13, 14, 15]])"
      ]
     },
     "execution_count": 83,
     "metadata": {},
     "output_type": "execute_result"
    }
   ],
   "source": [
    "#Reshape the existing array with new dimension\n",
    "array.reshape(1,15)"
   ]
  },
  {
   "cell_type": "markdown",
   "id": "ee077ff6-f62e-47a2-83c5-08aa1d1ec0fd",
   "metadata": {},
   "source": [
    "#Indexing"
   ]
  },
  {
   "cell_type": "code",
   "execution_count": 84,
   "id": "63638c32-de20-4686-812c-cabec9ce2dbe",
   "metadata": {},
   "outputs": [
    {
     "data": {
      "text/plain": [
       "array([1, 2, 3, 4, 5, 6])"
      ]
     },
     "execution_count": 84,
     "metadata": {},
     "output_type": "execute_result"
    }
   ],
   "source": [
    "arr=np.array([1,2,3,4,5,6])\n",
    "arr"
   ]
  },
  {
   "cell_type": "code",
   "execution_count": 85,
   "id": "2e8b0241-733b-4a13-8ca9-90e03bfd6d42",
   "metadata": {},
   "outputs": [
    {
     "data": {
      "text/plain": [
       "5"
      ]
     },
     "execution_count": 85,
     "metadata": {},
     "output_type": "execute_result"
    }
   ],
   "source": [
    "arr[4]"
   ]
  },
  {
   "cell_type": "code",
   "execution_count": 86,
   "id": "fc305972-8075-47bc-8373-5879cad10550",
   "metadata": {},
   "outputs": [
    {
     "data": {
      "text/plain": [
       "array([[ 1,  2,  3,  4,  5],\n",
       "       [ 6,  7,  8,  9, 10],\n",
       "       [11, 12, 13, 14, 15]])"
      ]
     },
     "execution_count": 86,
     "metadata": {},
     "output_type": "execute_result"
    }
   ],
   "source": [
    "array"
   ]
  },
  {
   "cell_type": "code",
   "execution_count": 87,
   "id": "a5eed73c-5373-466d-b046-62924f135b55",
   "metadata": {},
   "outputs": [
    {
     "data": {
      "text/plain": [
       "array([[ 6,  7],\n",
       "       [11, 12]])"
      ]
     },
     "execution_count": 87,
     "metadata": {},
     "output_type": "execute_result"
    }
   ],
   "source": [
    "array[1:3,0:2]"
   ]
  },
  {
   "cell_type": "code",
   "execution_count": 88,
   "id": "78512dc0-cc68-48ca-8b51-179f1d13262a",
   "metadata": {},
   "outputs": [
    {
     "data": {
      "text/plain": [
       "array([[ 8,  9],\n",
       "       [13, 14]])"
      ]
     },
     "execution_count": 88,
     "metadata": {},
     "output_type": "execute_result"
    }
   ],
   "source": [
    "array[1:3,2:4]"
   ]
  },
  {
   "cell_type": "code",
   "execution_count": 89,
   "id": "967eac32-8883-44c8-b95d-0138c984b07b",
   "metadata": {},
   "outputs": [
    {
     "data": {
      "text/plain": [
       "array([[ 9, 10],\n",
       "       [14, 15]])"
      ]
     },
     "execution_count": 89,
     "metadata": {},
     "output_type": "execute_result"
    }
   ],
   "source": [
    "array[1:3,3:5]"
   ]
  },
  {
   "cell_type": "code",
   "execution_count": 90,
   "id": "354ed6c0-5de8-4e2c-8999-95fcd3af05a3",
   "metadata": {},
   "outputs": [
    {
     "data": {
      "text/plain": [
       "array([ 0,  3,  6,  9, 12, 15, 18, 21, 24, 27, 30, 33, 36, 39, 42, 45, 48,\n",
       "       51, 54, 57, 60, 63, 66, 69, 72, 75, 78, 81, 84, 87, 90, 93, 96, 99])"
      ]
     },
     "execution_count": 90,
     "metadata": {},
     "output_type": "execute_result"
    }
   ],
   "source": [
    "#arrange function is used to create an array for an range of number with an step in last 2\n",
    "np.arange(0,100,3)\n"
   ]
  },
  {
   "cell_type": "code",
   "execution_count": 91,
   "id": "fb352e5b-6bcc-4fb9-8af9-7295467bec47",
   "metadata": {},
   "outputs": [
    {
     "data": {
      "text/plain": [
       "array([[ 1,  2,  3],\n",
       "       [ 4,  5,  6],\n",
       "       [ 7,  8,  9],\n",
       "       [10, 11, 12],\n",
       "       [13, 14, 15]])"
      ]
     },
     "execution_count": 91,
     "metadata": {},
     "output_type": "execute_result"
    }
   ],
   "source": [
    "a=array.reshape(5,3)\n",
    "a"
   ]
  },
  {
   "cell_type": "code",
   "execution_count": 92,
   "id": "8d4931b0-301b-45dc-a773-11df5e0553fc",
   "metadata": {},
   "outputs": [
    {
     "data": {
      "text/plain": [
       "array([[8]])"
      ]
     },
     "execution_count": 92,
     "metadata": {},
     "output_type": "execute_result"
    }
   ],
   "source": [
    "a[2:3,1:2]"
   ]
  },
  {
   "cell_type": "code",
   "execution_count": 93,
   "id": "cf72770b-df91-4e07-83a6-503a0b424b9d",
   "metadata": {},
   "outputs": [
    {
     "data": {
      "text/plain": [
       "array([[2],\n",
       "       [5]])"
      ]
     },
     "execution_count": 93,
     "metadata": {},
     "output_type": "execute_result"
    }
   ],
   "source": [
    "a[0:2,1:2]"
   ]
  },
  {
   "cell_type": "code",
   "execution_count": 94,
   "id": "c65194ed-a516-4be8-84ba-5da1a9bb120a",
   "metadata": {},
   "outputs": [
    {
     "data": {
      "text/plain": [
       "array([[ 1,  2,  3,  4,  5],\n",
       "       [ 6,  7,  8,  9, 10],\n",
       "       [11, 12, 13, 14, 15]])"
      ]
     },
     "execution_count": 94,
     "metadata": {},
     "output_type": "execute_result"
    }
   ],
   "source": [
    "array"
   ]
  },
  {
   "cell_type": "code",
   "execution_count": null,
   "id": "eaec45c2-ba80-4080-b284-ad47c53b15d2",
   "metadata": {},
   "outputs": [],
   "source": []
  },
  {
   "cell_type": "code",
   "execution_count": 95,
   "id": "fe8e78c7-f39d-4245-bc3e-5fcb51076d47",
   "metadata": {},
   "outputs": [
    {
     "data": {
      "text/plain": [
       "array([[  1,   2,   3,   4,   5],\n",
       "       [  6,   7,   8,   9,  10],\n",
       "       [500, 500, 500, 500, 500]])"
      ]
     },
     "execution_count": 95,
     "metadata": {},
     "output_type": "execute_result"
    }
   ],
   "source": [
    "array[2:]=500\n",
    "array"
   ]
  },
  {
   "cell_type": "code",
   "execution_count": 133,
   "id": "37c30a77-df7a-4cee-ae96-41cc52e4fed2",
   "metadata": {},
   "outputs": [
    {
     "data": {
      "text/plain": [
       "array([[  1,   2,   3,   4,   5],\n",
       "       [  6,   7,   8,   9,  10],\n",
       "       [500, 500, 500, 500, 500]])"
      ]
     },
     "execution_count": 133,
     "metadata": {},
     "output_type": "execute_result"
    }
   ],
   "source": [
    "#Copy Function is to copy the array \n",
    "arr1=array.copy()\n",
    "arr1"
   ]
  },
  {
   "cell_type": "code",
   "execution_count": 134,
   "id": "b670feac-97f4-4c15-b37d-549a81831de7",
   "metadata": {},
   "outputs": [
    {
     "data": {
      "text/plain": [
       "array([[1., 1., 1.],\n",
       "       [1., 1., 1.],\n",
       "       [1., 1., 1.]])"
      ]
     },
     "execution_count": 134,
     "metadata": {},
     "output_type": "execute_result"
    }
   ],
   "source": [
    "np.ones([3,3])"
   ]
  },
  {
   "cell_type": "code",
   "execution_count": 135,
   "id": "e8e29333-e894-430d-aa20-f8705cb28e30",
   "metadata": {},
   "outputs": [
    {
     "data": {
      "text/plain": [
       "array([[   1,    2,    3,    4,    5],\n",
       "       [   6,    7,    8,    9,   10],\n",
       "       [1000, 1000, 1000, 1000, 1000]])"
      ]
     },
     "execution_count": 135,
     "metadata": {},
     "output_type": "execute_result"
    }
   ],
   "source": [
    "arr1[2:]=1000  #the original array wont be effect if you update the value if you used copy function if u asssign it will effext the original array\n",
    "arr1"
   ]
  },
  {
   "cell_type": "code",
   "execution_count": 136,
   "id": "7fac596f-63a9-4d77-ba53-5da18a7ffa4d",
   "metadata": {},
   "outputs": [
    {
     "data": {
      "text/plain": [
       "array([[  1,   2,   3,   4,   5],\n",
       "       [  6,   7,   8,   9,  10],\n",
       "       [500, 500, 500, 500, 500]])"
      ]
     },
     "execution_count": 136,
     "metadata": {},
     "output_type": "execute_result"
    }
   ],
   "source": [
    "array"
   ]
  },
  {
   "cell_type": "code",
   "execution_count": 137,
   "id": "edaeadcd-03ea-40b5-8e4e-304aafdb9958",
   "metadata": {},
   "outputs": [
    {
     "data": {
      "text/plain": [
       "array([[   1,    2,    3,    4,    5],\n",
       "       [   6,    7,    8,    9,   10],\n",
       "       [1000, 1000, 1000, 1000, 1000]])"
      ]
     },
     "execution_count": 137,
     "metadata": {},
     "output_type": "execute_result"
    }
   ],
   "source": [
    "arr1"
   ]
  },
  {
   "cell_type": "code",
   "execution_count": 138,
   "id": "22fc8207-c306-421c-a8ea-e17308200b17",
   "metadata": {},
   "outputs": [
    {
     "name": "stdout",
     "output_type": "stream",
     "text": [
      "[[1 0 1 0 1]\n",
      " [0 1 0 1 0]\n",
      " [0 0 0 0 0]]\n"
     ]
    }
   ],
   "source": [
    "val =2\n",
    "#Conditions in array it is divisible or not\n",
    "print(arr1 % 2)"
   ]
  },
  {
   "cell_type": "code",
   "execution_count": 139,
   "id": "e74411b1-32e0-4149-b3ea-5c9bc0dcc39c",
   "metadata": {},
   "outputs": [
    {
     "data": {
      "text/plain": [
       "array([ 1.  ,  3.25,  5.5 ,  7.75, 10.  ])"
      ]
     },
     "execution_count": 139,
     "metadata": {},
     "output_type": "execute_result"
    }
   ],
   "source": [
    "np.linspace(1,10,5)"
   ]
  },
  {
   "cell_type": "code",
   "execution_count": 140,
   "id": "6d9f90ec-c83d-404a-ac55-f7cfcaed87ac",
   "metadata": {},
   "outputs": [
    {
     "data": {
      "text/plain": [
       "array([[ 0.40164679, -1.0029372 ,  0.13384466],\n",
       "       [ 1.1709906 , -1.17920551, -0.1186957 ],\n",
       "       [ 1.09615058,  0.09516277, -0.87680016]])"
      ]
     },
     "execution_count": 140,
     "metadata": {},
     "output_type": "execute_result"
    }
   ],
   "source": [
    "#random normal distribution betweeen 0 and 1\n",
    "np.random.randn(3,3)"
   ]
  },
  {
   "cell_type": "code",
   "execution_count": 141,
   "id": "1708fa08-2a36-4b41-9402-ceb2e12b4d94",
   "metadata": {},
   "outputs": [
    {
     "data": {
      "text/plain": [
       "array([[0.4623641 , 0.07578969, 0.99398354],\n",
       "       [0.40718241, 0.67348174, 0.45507032],\n",
       "       [0.71863965, 0.52926727, 0.40864121]])"
      ]
     },
     "execution_count": 141,
     "metadata": {},
     "output_type": "execute_result"
    }
   ],
   "source": [
    "#Random numbers btween 0 & 1\n",
    "np.random.rand(3,3)"
   ]
  },
  {
   "cell_type": "code",
   "execution_count": 142,
   "id": "d5be9435-b560-4aeb-8086-fdb69f836871",
   "metadata": {},
   "outputs": [
    {
     "data": {
      "text/plain": [
       "array([73, 81,  5, 95,  8, 13, 45, 94])"
      ]
     },
     "execution_count": 142,
     "metadata": {},
     "output_type": "execute_result"
    }
   ],
   "source": [
    "#Random numbers in integer\n",
    "np.random.randint(0,100,8)\n"
   ]
  },
  {
   "cell_type": "code",
   "execution_count": 143,
   "id": "e56f7097-dcd5-4267-8a62-851942503fc5",
   "metadata": {},
   "outputs": [
    {
     "data": {
      "text/plain": [
       "array([[0.47294221, 0.34760995, 0.29248769],\n",
       "       [0.37391695, 0.3565177 , 0.69155739],\n",
       "       [0.5061436 , 0.88511414, 0.40724438]])"
      ]
     },
     "execution_count": 143,
     "metadata": {},
     "output_type": "execute_result"
    }
   ],
   "source": [
    "#the parameters defines the dimensions of an array\n",
    "np.random.random_sample([3,3])"
   ]
  },
  {
   "cell_type": "code",
   "execution_count": 144,
   "id": "1ab06fe3-f4a8-40bf-8faf-fab7d9b6c0fe",
   "metadata": {},
   "outputs": [
    {
     "name": "stdout",
     "output_type": "stream",
     "text": [
      "Thank You\n"
     ]
    }
   ],
   "source": [
    "print('Thank You')"
   ]
  }
 ],
 "metadata": {
  "kernelspec": {
   "display_name": "Python 3 (ipykernel)",
   "language": "python",
   "name": "python3"
  },
  "language_info": {
   "codemirror_mode": {
    "name": "ipython",
    "version": 3
   },
   "file_extension": ".py",
   "mimetype": "text/x-python",
   "name": "python",
   "nbconvert_exporter": "python",
   "pygments_lexer": "ipython3",
   "version": "3.12.7"
  }
 },
 "nbformat": 4,
 "nbformat_minor": 5
}
